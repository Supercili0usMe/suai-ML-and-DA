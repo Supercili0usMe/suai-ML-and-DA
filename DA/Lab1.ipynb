{
 "cells": [
  {
   "cell_type": "markdown",
   "metadata": {},
   "source": [
    "# Лабораторная работа №1 <a id='intro'></a>\n",
    "\n",
    "- [Загрузка датасета](#1)\n",
    "- [Вывод первой 20-ки](#2)\n",
    "- [Обзор данных](#3)\n",
    "- [Оценка данных](#4)\n",
    "- [Вывод столбцов](#5)\n",
    "- [Поиск пропусков](#6)\n",
    "- [Поиск дубликатов](#7)\n",
    "- [Приведение типов данных](#8)\n",
    "- [Сводные таблицы](#9)\n",
    "- [Группировка данных](#10)\n",
    "- [Выводы](#11)"
   ]
  },
  {
   "cell_type": "markdown",
   "metadata": {},
   "source": [
    "## Загрузка датасета <a id='1'></a>\n",
    "В начале необходимо загрузить датасет используя библиотеку **pandas**. \n"
   ]
  },
  {
   "cell_type": "markdown",
   "metadata": {},
   "source": [
    "**Pandas** - это библиотека языка Python, предназначенная для анализа данных. Интересный факт заключается в том, что данная библиотека строится поверх другой библиотеки, а именно **NumPy**.\n",
    "\n",
    "Что же касается лабораторной работы, то для выполнения этого шага нужно подключить данную библиотеку, предварительно её конечно же установив на персональный компьютер, и уже при помощи встроенных функций данной библиотеки считать таблицу из **CSV** файла и сохранить это в базу данных, называемую `\"DataFrame\"`.\n",
    "\n",
    "[Вернуться в начало](#intro)"
   ]
  },
  {
   "cell_type": "code",
   "execution_count": 16,
   "metadata": {},
   "outputs": [],
   "source": [
    "import pandas as pd\n",
    "\n",
    "read_csv = pd.read_csv('9visits.csv', sep=\",\")\n",
    "data = pd.DataFrame(read_csv)"
   ]
  },
  {
   "cell_type": "markdown",
   "metadata": {},
   "source": [
    "## Вывод первых 20 строк <a id='2'></a>\n",
    "Вывод первых 20 строк осуществляется при помощи функции `\".head()\"` с передаваемым параметром `20`.\n",
    "\n",
    "[Вернуться в начало](#intro)"
   ]
  },
  {
   "cell_type": "code",
   "execution_count": 8,
   "metadata": {},
   "outputs": [
    {
     "data": {
      "text/html": [
       "<div>\n",
       "<style scoped>\n",
       "    .dataframe tbody tr th:only-of-type {\n",
       "        vertical-align: middle;\n",
       "    }\n",
       "\n",
       "    .dataframe tbody tr th {\n",
       "        vertical-align: top;\n",
       "    }\n",
       "\n",
       "    .dataframe thead th {\n",
       "        text-align: right;\n",
       "    }\n",
       "</style>\n",
       "<table border=\"1\" class=\"dataframe\">\n",
       "  <thead>\n",
       "    <tr style=\"text-align: right;\">\n",
       "      <th></th>\n",
       "      <th>User Id</th>\n",
       "      <th>Region</th>\n",
       "      <th>Device</th>\n",
       "      <th>Channel</th>\n",
       "      <th>Session Start</th>\n",
       "      <th>Session End</th>\n",
       "    </tr>\n",
       "  </thead>\n",
       "  <tbody>\n",
       "    <tr>\n",
       "      <th>0</th>\n",
       "      <td>981449118918</td>\n",
       "      <td>United States</td>\n",
       "      <td>iPhone</td>\n",
       "      <td>organic</td>\n",
       "      <td>2019-05-01 02:36:01</td>\n",
       "      <td>2019-05-01 02:45:01</td>\n",
       "    </tr>\n",
       "    <tr>\n",
       "      <th>1</th>\n",
       "      <td>278965908054</td>\n",
       "      <td>United States</td>\n",
       "      <td>iPhone</td>\n",
       "      <td>organic</td>\n",
       "      <td>2019-05-01 04:46:31</td>\n",
       "      <td>2019-05-01 04:47:35</td>\n",
       "    </tr>\n",
       "    <tr>\n",
       "      <th>2</th>\n",
       "      <td>590706206550</td>\n",
       "      <td>United States</td>\n",
       "      <td>Mac</td>\n",
       "      <td>organic</td>\n",
       "      <td>2019-05-01 14:09:25</td>\n",
       "      <td>2019-05-01 15:32:08</td>\n",
       "    </tr>\n",
       "    <tr>\n",
       "      <th>3</th>\n",
       "      <td>326433527971</td>\n",
       "      <td>United States</td>\n",
       "      <td>Android</td>\n",
       "      <td>TipTop</td>\n",
       "      <td>2019-05-01 00:29:59</td>\n",
       "      <td>2019-05-01 00:54:25</td>\n",
       "    </tr>\n",
       "    <tr>\n",
       "      <th>4</th>\n",
       "      <td>349773784594</td>\n",
       "      <td>United States</td>\n",
       "      <td>Mac</td>\n",
       "      <td>organic</td>\n",
       "      <td>2019-05-01 03:33:35</td>\n",
       "      <td>2019-05-01 03:57:40</td>\n",
       "    </tr>\n",
       "    <tr>\n",
       "      <th>5</th>\n",
       "      <td>90242400005</td>\n",
       "      <td>United States</td>\n",
       "      <td>iPhone</td>\n",
       "      <td>RocketSuperAds</td>\n",
       "      <td>2019-05-01 07:14:52</td>\n",
       "      <td>2019-05-01 08:19:56</td>\n",
       "    </tr>\n",
       "    <tr>\n",
       "      <th>6</th>\n",
       "      <td>43958116050</td>\n",
       "      <td>United States</td>\n",
       "      <td>Android</td>\n",
       "      <td>organic</td>\n",
       "      <td>2019-05-01 09:03:21</td>\n",
       "      <td>2019-05-01 10:08:39</td>\n",
       "    </tr>\n",
       "    <tr>\n",
       "      <th>7</th>\n",
       "      <td>185365244969</td>\n",
       "      <td>United States</td>\n",
       "      <td>iPhone</td>\n",
       "      <td>organic</td>\n",
       "      <td>2019-05-01 09:37:03</td>\n",
       "      <td>2019-05-01 10:00:43</td>\n",
       "    </tr>\n",
       "    <tr>\n",
       "      <th>8</th>\n",
       "      <td>446013509831</td>\n",
       "      <td>United States</td>\n",
       "      <td>iPhone</td>\n",
       "      <td>RocketSuperAds</td>\n",
       "      <td>2019-05-01 10:26:00</td>\n",
       "      <td>2019-05-01 10:59:17</td>\n",
       "    </tr>\n",
       "    <tr>\n",
       "      <th>9</th>\n",
       "      <td>100970711362</td>\n",
       "      <td>United States</td>\n",
       "      <td>Mac</td>\n",
       "      <td>TipTop</td>\n",
       "      <td>2019-05-01 04:39:53</td>\n",
       "      <td>2019-05-01 04:57:05</td>\n",
       "    </tr>\n",
       "    <tr>\n",
       "      <th>10</th>\n",
       "      <td>589320347244</td>\n",
       "      <td>United States</td>\n",
       "      <td>Mac</td>\n",
       "      <td>YRabbit</td>\n",
       "      <td>2019-05-01 18:39:23</td>\n",
       "      <td>2019-05-01 20:03:15</td>\n",
       "    </tr>\n",
       "    <tr>\n",
       "      <th>11</th>\n",
       "      <td>370455852550</td>\n",
       "      <td>United States</td>\n",
       "      <td>iPhone</td>\n",
       "      <td>organic</td>\n",
       "      <td>2019-05-01 14:44:30</td>\n",
       "      <td>2019-05-01 15:41:24</td>\n",
       "    </tr>\n",
       "    <tr>\n",
       "      <th>12</th>\n",
       "      <td>141837741427</td>\n",
       "      <td>United States</td>\n",
       "      <td>Mac</td>\n",
       "      <td>FaceBoom</td>\n",
       "      <td>2019-05-01 06:20:48</td>\n",
       "      <td>2019-05-01 06:54:33</td>\n",
       "    </tr>\n",
       "    <tr>\n",
       "      <th>13</th>\n",
       "      <td>924308873083</td>\n",
       "      <td>United States</td>\n",
       "      <td>iPhone</td>\n",
       "      <td>organic</td>\n",
       "      <td>2019-05-01 20:03:52</td>\n",
       "      <td>2019-05-01 20:19:34</td>\n",
       "    </tr>\n",
       "    <tr>\n",
       "      <th>14</th>\n",
       "      <td>774938424092</td>\n",
       "      <td>United States</td>\n",
       "      <td>iPhone</td>\n",
       "      <td>MediaTornado</td>\n",
       "      <td>2019-05-01 14:01:40</td>\n",
       "      <td>2019-05-01 14:29:24</td>\n",
       "    </tr>\n",
       "    <tr>\n",
       "      <th>15</th>\n",
       "      <td>244878945432</td>\n",
       "      <td>United States</td>\n",
       "      <td>iPhone</td>\n",
       "      <td>MediaTornado</td>\n",
       "      <td>2019-05-01 01:59:41</td>\n",
       "      <td>2019-05-01 02:21:50</td>\n",
       "    </tr>\n",
       "    <tr>\n",
       "      <th>16</th>\n",
       "      <td>157877034671</td>\n",
       "      <td>United States</td>\n",
       "      <td>Mac</td>\n",
       "      <td>organic</td>\n",
       "      <td>2019-05-01 10:25:16</td>\n",
       "      <td>2019-05-01 10:35:03</td>\n",
       "    </tr>\n",
       "    <tr>\n",
       "      <th>17</th>\n",
       "      <td>321335574694</td>\n",
       "      <td>United States</td>\n",
       "      <td>iPhone</td>\n",
       "      <td>YRabbit</td>\n",
       "      <td>2019-05-01 09:49:32</td>\n",
       "      <td>2019-05-01 10:10:02</td>\n",
       "    </tr>\n",
       "    <tr>\n",
       "      <th>18</th>\n",
       "      <td>524629398969</td>\n",
       "      <td>United States</td>\n",
       "      <td>Mac</td>\n",
       "      <td>organic</td>\n",
       "      <td>2019-05-01 17:06:46</td>\n",
       "      <td>2019-05-01 18:05:31</td>\n",
       "    </tr>\n",
       "    <tr>\n",
       "      <th>19</th>\n",
       "      <td>136226778935</td>\n",
       "      <td>United States</td>\n",
       "      <td>PC</td>\n",
       "      <td>organic</td>\n",
       "      <td>2019-05-01 19:34:45</td>\n",
       "      <td>2019-05-01 19:39:24</td>\n",
       "    </tr>\n",
       "  </tbody>\n",
       "</table>\n",
       "</div>"
      ],
      "text/plain": [
       "         User Id         Region   Device         Channel        Session Start  \\\n",
       "0   981449118918  United States   iPhone         organic  2019-05-01 02:36:01   \n",
       "1   278965908054  United States   iPhone         organic  2019-05-01 04:46:31   \n",
       "2   590706206550  United States      Mac         organic  2019-05-01 14:09:25   \n",
       "3   326433527971  United States  Android          TipTop  2019-05-01 00:29:59   \n",
       "4   349773784594  United States      Mac         organic  2019-05-01 03:33:35   \n",
       "5    90242400005  United States   iPhone  RocketSuperAds  2019-05-01 07:14:52   \n",
       "6    43958116050  United States  Android         organic  2019-05-01 09:03:21   \n",
       "7   185365244969  United States   iPhone         organic  2019-05-01 09:37:03   \n",
       "8   446013509831  United States   iPhone  RocketSuperAds  2019-05-01 10:26:00   \n",
       "9   100970711362  United States      Mac          TipTop  2019-05-01 04:39:53   \n",
       "10  589320347244  United States      Mac         YRabbit  2019-05-01 18:39:23   \n",
       "11  370455852550  United States   iPhone         organic  2019-05-01 14:44:30   \n",
       "12  141837741427  United States      Mac        FaceBoom  2019-05-01 06:20:48   \n",
       "13  924308873083  United States   iPhone         organic  2019-05-01 20:03:52   \n",
       "14  774938424092  United States   iPhone    MediaTornado  2019-05-01 14:01:40   \n",
       "15  244878945432  United States   iPhone    MediaTornado  2019-05-01 01:59:41   \n",
       "16  157877034671  United States      Mac         organic  2019-05-01 10:25:16   \n",
       "17  321335574694  United States   iPhone         YRabbit  2019-05-01 09:49:32   \n",
       "18  524629398969  United States      Mac         organic  2019-05-01 17:06:46   \n",
       "19  136226778935  United States       PC         organic  2019-05-01 19:34:45   \n",
       "\n",
       "            Session End  \n",
       "0   2019-05-01 02:45:01  \n",
       "1   2019-05-01 04:47:35  \n",
       "2   2019-05-01 15:32:08  \n",
       "3   2019-05-01 00:54:25  \n",
       "4   2019-05-01 03:57:40  \n",
       "5   2019-05-01 08:19:56  \n",
       "6   2019-05-01 10:08:39  \n",
       "7   2019-05-01 10:00:43  \n",
       "8   2019-05-01 10:59:17  \n",
       "9   2019-05-01 04:57:05  \n",
       "10  2019-05-01 20:03:15  \n",
       "11  2019-05-01 15:41:24  \n",
       "12  2019-05-01 06:54:33  \n",
       "13  2019-05-01 20:19:34  \n",
       "14  2019-05-01 14:29:24  \n",
       "15  2019-05-01 02:21:50  \n",
       "16  2019-05-01 10:35:03  \n",
       "17  2019-05-01 10:10:02  \n",
       "18  2019-05-01 18:05:31  \n",
       "19  2019-05-01 19:39:24  "
      ]
     },
     "execution_count": 8,
     "metadata": {},
     "output_type": "execute_result"
    }
   ],
   "source": [
    "data.head(20)"
   ]
  },
  {
   "cell_type": "markdown",
   "metadata": {},
   "source": [
    "## Обзор данных <a id='3'></a>\n",
    "\n",
    "В данной части будет проведен обзор имеющихся данных в датафрейме. "
   ]
  },
  {
   "cell_type": "markdown",
   "metadata": {},
   "source": [
    "Итак, в данной таблице существует 6 основных столбцов:\n",
    "\n",
    "- `User ID` - уникальный идентификатор пользователя: случайный набор цифр который выдается каждому пользователю, который заходит на сайт;\n",
    "- `Region` - страна пользователя: определяет страну, в которой находился пользователь, когда он заходил на сайт;\n",
    "- `Device` - категория устройства пользователя: тип устройства, через которое пользователь зашел на сайт;\n",
    "- `Channel` - идентификатор рекламного источника, из которого пришел пользователь;\n",
    "- `Session start` - дата и время начала сессии: т.е. время, когда пользователь впервые зашел на сайт;\n",
    "- `Session end` - дата и время окончания сессии: т.е. время, когда пользователь покинул сайт.\n",
    "\n",
    "Также, после конвертации из CSV-файла в датафрейм, появился еще один незначащий столбец - порядковый номер записи.\n",
    "\n",
    "Таким образом можно сделать вывод о том, что данный датафрейм относиться к собранным данным некоторого сайта, на который пользователи попадали посредством просмотра рекламы, т. е. пользователи видели рекламный баннер, кликали на него и переходили как раз на этот сайт.\n",
    "\n",
    "[Вернуться в начало](#intro)"
   ]
  },
  {
   "cell_type": "markdown",
   "metadata": {},
   "source": [
    "## Оценка данных <a id='4'></a>\n",
    "\n",
    "Здесь будет проведен оценочный анализ данный при помощи метода `\".info()\"`."
   ]
  },
  {
   "cell_type": "markdown",
   "metadata": {},
   "source": [
    "Данная функция возвращает название столбцов, типы данных, количество ненулевых объектов в каждом столбце. Проще говоря, при помощи данного метода можно провести быстрый анализ данных на самые основные моменты базы данных"
   ]
  },
  {
   "cell_type": "code",
   "execution_count": 3,
   "metadata": {},
   "outputs": [
    {
     "name": "stdout",
     "output_type": "stream",
     "text": [
      "<class 'pandas.core.frame.DataFrame'>\n",
      "RangeIndex: 309901 entries, 0 to 309900\n",
      "Data columns (total 6 columns):\n",
      " #   Column         Non-Null Count   Dtype \n",
      "---  ------         --------------   ----- \n",
      " 0   User Id        309901 non-null  int64 \n",
      " 1   Region         309901 non-null  object\n",
      " 2   Device         309901 non-null  object\n",
      " 3   Channel        309901 non-null  object\n",
      " 4   Session Start  309901 non-null  object\n",
      " 5   Session End    309901 non-null  object\n",
      "dtypes: int64(1), object(5)\n",
      "memory usage: 14.2+ MB\n"
     ]
    }
   ],
   "source": [
    "data.info()"
   ]
  },
  {
   "cell_type": "markdown",
   "metadata": {},
   "source": [
    "Исходя из выводимой данным методом информацией, можно сделать вывод о том, что типов данных всего лишь 2: **целые числа** и **текстовые поля**.\n",
    "\n",
    "Далее в выходном сообщении показано, что в данном датафрейме **отсутствуют** нулевые значения в каждом столбце данных.\n",
    "\n",
    "Но есть и незначительная ошибка в датафрейме, которая показана на выводе после выполения метода - названия столбцов имеют в себе пробелы, что не должно быть. Если делать максимально все правильно, то названия лучше писать без пробелов, в **\"змеином_регистре\"**.\n",
    "\n",
    "[Вернуться в начало](#intro)\n"
   ]
  },
  {
   "cell_type": "markdown",
   "metadata": {},
   "source": [
    "## Вывод столбцов <a id='5'></a>\n",
    "\n",
    "В этом разделе будут выведены названия всех столбцов."
   ]
  },
  {
   "cell_type": "markdown",
   "metadata": {},
   "source": [
    "Для вывода названий столбцов обычно используют метод `.columns`, который выводит в ответом сообщении названия всех столбцов в виде списка."
   ]
  },
  {
   "cell_type": "code",
   "execution_count": 4,
   "metadata": {},
   "outputs": [
    {
     "data": {
      "text/plain": [
       "Index(['User Id', 'Region', 'Device', 'Channel', 'Session Start',\n",
       "       'Session End'],\n",
       "      dtype='object')"
      ]
     },
     "execution_count": 4,
     "metadata": {},
     "output_type": "execute_result"
    }
   ],
   "source": [
    "data.columns"
   ]
  },
  {
   "cell_type": "markdown",
   "metadata": {},
   "source": [
    "Как уже было написано ранее, в названии столбцов есть одна небольшая ошибка, а именно что **названия некоторых столбцов имеют в себе пробелы**. Решается эта проблема очень просто, нужно всего лишь записать названия столбцов в *\"змеином_регистре\"*.\n",
    "\n",
    "Для переименования столбцов используют функцию `.rename(columns={'Название1': 'измененное_название'})`.\n",
    "\n",
    "[Вернуться в начало](#intro)"
   ]
  },
  {
   "cell_type": "code",
   "execution_count": 24,
   "metadata": {},
   "outputs": [],
   "source": [
    "data = data.rename(columns={'User Id': 'user_id', 'Session Start': 'session_start', 'Session End': 'session_end'})"
   ]
  },
  {
   "cell_type": "markdown",
   "metadata": {},
   "source": [
    "## Поиск пропусков <a id='6'></a>\n",
    "\n",
    "В данной части будем искать пропуски в данных."
   ]
  },
  {
   "cell_type": "markdown",
   "metadata": {},
   "source": [
    "При поиске пустых данных очень часто используют специальный метод `.isna()`, который найдет все пропуски в таблице. \n",
    "\n",
    "Но проблема использования данного метода в том, что он просматривает всю таблицу и если где-то отсутствует хоть одно значение, то он выведет *True*, иначе *False*. Если же необходимо посчитать количество пропущенных данных, то вместе с ним пишут метод `.sum()`.\n",
    "\n",
    "Таким образом, итоговая команда выглядит так, как показано ниже:"
   ]
  },
  {
   "cell_type": "code",
   "execution_count": 3,
   "metadata": {},
   "outputs": [
    {
     "data": {
      "text/plain": [
       "User Id          0\n",
       "Region           0\n",
       "Device           0\n",
       "Channel          0\n",
       "Session Start    0\n",
       "Session End      0\n",
       "dtype: int64"
      ]
     },
     "execution_count": 3,
     "metadata": {},
     "output_type": "execute_result"
    }
   ],
   "source": [
    "data.isna().sum()\n"
   ]
  },
  {
   "cell_type": "markdown",
   "metadata": {},
   "source": [
    "Исходя из полученного ответа, можно сделать вывод о том, что с набором данных мне повезло, ведь **ни в одном столбце нету пустых ячеек**.\n",
    "\n",
    "[Вернуться в начало](#intro)"
   ]
  },
  {
   "cell_type": "markdown",
   "metadata": {},
   "source": [
    "## Поиск дубликатов <a id='7'></a>\n",
    "\n",
    "Займемся поиском дубликатов."
   ]
  },
  {
   "cell_type": "markdown",
   "metadata": {},
   "source": [
    "Поиск дубликатов обычно делиться на 2 типа: *поиск явных дубликатов* и *поиск неявных дубликатов*. Начнем с первого случая."
   ]
  },
  {
   "cell_type": "markdown",
   "metadata": {},
   "source": [
    "Для поиска явных дубликатов используется функция `.duplicated()`, которая просто ищет дубликаты. По умолчанию данный метод признает дубликатами те строки, которые полностью повторяют уже встречавшиеся в датасете. \n",
    "Т.е. метод, как и в случае с методом `.isna()`, выводит значения либо **True**, либо **False**. Поэтому для понимания количества дубликатов добавляют, как и в предыдущем случая, функцию `.sum()`."
   ]
  },
  {
   "cell_type": "code",
   "execution_count": 7,
   "metadata": {},
   "outputs": [
    {
     "data": {
      "text/plain": [
       "0"
      ]
     },
     "execution_count": 7,
     "metadata": {},
     "output_type": "execute_result"
    }
   ],
   "source": [
    "data.duplicated().sum()"
   ]
  },
  {
   "cell_type": "markdown",
   "metadata": {},
   "source": [
    "Получается, что **полностью повторяющихся строк в данном датасете нету**, что хорошо.\n",
    "\n",
    "Теперь займемся поиском неявных дубликатов. Для этого используют метод `.unique()` для каждого столбца датасета. И чтобы вручную не писать этот метод для каждого столбца, гораздо проще будет создать цикл, который будет проходить по массиву, созданному по всем названиям столбцов."
   ]
  },
  {
   "cell_type": "code",
   "execution_count": 16,
   "metadata": {},
   "outputs": [
    {
     "name": "stdout",
     "output_type": "stream",
     "text": [
      "[981449118918 278965908054 590706206550 ... 519022174024 354394066496\n",
      " 279181973476]\n",
      "['United States' 'UK' 'France' 'Germany']\n",
      "['iPhone' 'Mac' 'Android' 'PC']\n",
      "['organic' 'TipTop' 'RocketSuperAds' 'YRabbit' 'FaceBoom' 'MediaTornado'\n",
      " 'AdNonSense' 'LeapBob' 'WahooNetBanner' 'OppleCreativeMedia'\n",
      " 'lambdaMediaAds']\n",
      "['2019-05-01 02:36:01' '2019-05-01 04:46:31' '2019-05-01 14:09:25' ...\n",
      " '2019-10-31 01:40:48' '2019-10-31 07:37:34' '2019-10-31 14:17:43']\n",
      "['2019-05-01 02:45:01' '2019-05-01 04:47:35' '2019-05-01 15:32:08' ...\n",
      " '2019-10-31 01:41:31' '2019-10-31 07:37:55' '2019-10-31 15:17:04']\n"
     ]
    }
   ],
   "source": [
    "col = data.columns\n",
    "for column in col:\n",
    "    print(data[column].unique())"
   ]
  },
  {
   "cell_type": "markdown",
   "metadata": {},
   "source": [
    "В ходе поиска неявных дубликатов обычно ищут:\n",
    "- альтернативные варианты написания одного и того же значения;\n",
    "- ошибочные написания.\n",
    "\n",
    "И как видно из выводимого сообщения выше, в данном датасете **отсутствуют неявные дубликаты**.\n",
    "\n",
    "И подводя итог, можно сделать вывод о том, что **в данном датасете нету никаких дубликатов**, ни явных, ни неявных.\n",
    "\n",
    "[Вернуться в начало](#intro)"
   ]
  },
  {
   "cell_type": "markdown",
   "metadata": {},
   "source": [
    "## Приведение типов данных <a id='8'></a>\n",
    "\n",
    "Проверим, все ли типы данных соответствуют действительности."
   ]
  },
  {
   "cell_type": "markdown",
   "metadata": {},
   "source": [
    "Чтобы начать приводить данные в порядок, для начала необходимо оценить данные методом `.info()` и вывести несколько строк данных методом `.head()` с некоторым параметром, например `10`."
   ]
  },
  {
   "cell_type": "code",
   "execution_count": 17,
   "metadata": {},
   "outputs": [
    {
     "name": "stdout",
     "output_type": "stream",
     "text": [
      "<class 'pandas.core.frame.DataFrame'>\n",
      "RangeIndex: 309901 entries, 0 to 309900\n",
      "Data columns (total 6 columns):\n",
      " #   Column         Non-Null Count   Dtype \n",
      "---  ------         --------------   ----- \n",
      " 0   user_id        309901 non-null  int64 \n",
      " 1   Region         309901 non-null  object\n",
      " 2   Device         309901 non-null  object\n",
      " 3   Channel        309901 non-null  object\n",
      " 4   session_start  309901 non-null  object\n",
      " 5   session_end    309901 non-null  object\n",
      "dtypes: int64(1), object(5)\n",
      "memory usage: 14.2+ MB\n"
     ]
    },
    {
     "data": {
      "text/html": [
       "<div>\n",
       "<style scoped>\n",
       "    .dataframe tbody tr th:only-of-type {\n",
       "        vertical-align: middle;\n",
       "    }\n",
       "\n",
       "    .dataframe tbody tr th {\n",
       "        vertical-align: top;\n",
       "    }\n",
       "\n",
       "    .dataframe thead th {\n",
       "        text-align: right;\n",
       "    }\n",
       "</style>\n",
       "<table border=\"1\" class=\"dataframe\">\n",
       "  <thead>\n",
       "    <tr style=\"text-align: right;\">\n",
       "      <th></th>\n",
       "      <th>user_id</th>\n",
       "      <th>Region</th>\n",
       "      <th>Device</th>\n",
       "      <th>Channel</th>\n",
       "      <th>session_start</th>\n",
       "      <th>session_end</th>\n",
       "    </tr>\n",
       "  </thead>\n",
       "  <tbody>\n",
       "    <tr>\n",
       "      <th>0</th>\n",
       "      <td>981449118918</td>\n",
       "      <td>United States</td>\n",
       "      <td>iPhone</td>\n",
       "      <td>organic</td>\n",
       "      <td>2019-05-01 02:36:01</td>\n",
       "      <td>2019-05-01 02:45:01</td>\n",
       "    </tr>\n",
       "    <tr>\n",
       "      <th>1</th>\n",
       "      <td>278965908054</td>\n",
       "      <td>United States</td>\n",
       "      <td>iPhone</td>\n",
       "      <td>organic</td>\n",
       "      <td>2019-05-01 04:46:31</td>\n",
       "      <td>2019-05-01 04:47:35</td>\n",
       "    </tr>\n",
       "    <tr>\n",
       "      <th>2</th>\n",
       "      <td>590706206550</td>\n",
       "      <td>United States</td>\n",
       "      <td>Mac</td>\n",
       "      <td>organic</td>\n",
       "      <td>2019-05-01 14:09:25</td>\n",
       "      <td>2019-05-01 15:32:08</td>\n",
       "    </tr>\n",
       "    <tr>\n",
       "      <th>3</th>\n",
       "      <td>326433527971</td>\n",
       "      <td>United States</td>\n",
       "      <td>Android</td>\n",
       "      <td>TipTop</td>\n",
       "      <td>2019-05-01 00:29:59</td>\n",
       "      <td>2019-05-01 00:54:25</td>\n",
       "    </tr>\n",
       "    <tr>\n",
       "      <th>4</th>\n",
       "      <td>349773784594</td>\n",
       "      <td>United States</td>\n",
       "      <td>Mac</td>\n",
       "      <td>organic</td>\n",
       "      <td>2019-05-01 03:33:35</td>\n",
       "      <td>2019-05-01 03:57:40</td>\n",
       "    </tr>\n",
       "    <tr>\n",
       "      <th>5</th>\n",
       "      <td>90242400005</td>\n",
       "      <td>United States</td>\n",
       "      <td>iPhone</td>\n",
       "      <td>RocketSuperAds</td>\n",
       "      <td>2019-05-01 07:14:52</td>\n",
       "      <td>2019-05-01 08:19:56</td>\n",
       "    </tr>\n",
       "    <tr>\n",
       "      <th>6</th>\n",
       "      <td>43958116050</td>\n",
       "      <td>United States</td>\n",
       "      <td>Android</td>\n",
       "      <td>organic</td>\n",
       "      <td>2019-05-01 09:03:21</td>\n",
       "      <td>2019-05-01 10:08:39</td>\n",
       "    </tr>\n",
       "    <tr>\n",
       "      <th>7</th>\n",
       "      <td>185365244969</td>\n",
       "      <td>United States</td>\n",
       "      <td>iPhone</td>\n",
       "      <td>organic</td>\n",
       "      <td>2019-05-01 09:37:03</td>\n",
       "      <td>2019-05-01 10:00:43</td>\n",
       "    </tr>\n",
       "    <tr>\n",
       "      <th>8</th>\n",
       "      <td>446013509831</td>\n",
       "      <td>United States</td>\n",
       "      <td>iPhone</td>\n",
       "      <td>RocketSuperAds</td>\n",
       "      <td>2019-05-01 10:26:00</td>\n",
       "      <td>2019-05-01 10:59:17</td>\n",
       "    </tr>\n",
       "    <tr>\n",
       "      <th>9</th>\n",
       "      <td>100970711362</td>\n",
       "      <td>United States</td>\n",
       "      <td>Mac</td>\n",
       "      <td>TipTop</td>\n",
       "      <td>2019-05-01 04:39:53</td>\n",
       "      <td>2019-05-01 04:57:05</td>\n",
       "    </tr>\n",
       "  </tbody>\n",
       "</table>\n",
       "</div>"
      ],
      "text/plain": [
       "        user_id         Region   Device         Channel        session_start  \\\n",
       "0  981449118918  United States   iPhone         organic  2019-05-01 02:36:01   \n",
       "1  278965908054  United States   iPhone         organic  2019-05-01 04:46:31   \n",
       "2  590706206550  United States      Mac         organic  2019-05-01 14:09:25   \n",
       "3  326433527971  United States  Android          TipTop  2019-05-01 00:29:59   \n",
       "4  349773784594  United States      Mac         organic  2019-05-01 03:33:35   \n",
       "5   90242400005  United States   iPhone  RocketSuperAds  2019-05-01 07:14:52   \n",
       "6   43958116050  United States  Android         organic  2019-05-01 09:03:21   \n",
       "7  185365244969  United States   iPhone         organic  2019-05-01 09:37:03   \n",
       "8  446013509831  United States   iPhone  RocketSuperAds  2019-05-01 10:26:00   \n",
       "9  100970711362  United States      Mac          TipTop  2019-05-01 04:39:53   \n",
       "\n",
       "           session_end  \n",
       "0  2019-05-01 02:45:01  \n",
       "1  2019-05-01 04:47:35  \n",
       "2  2019-05-01 15:32:08  \n",
       "3  2019-05-01 00:54:25  \n",
       "4  2019-05-01 03:57:40  \n",
       "5  2019-05-01 08:19:56  \n",
       "6  2019-05-01 10:08:39  \n",
       "7  2019-05-01 10:00:43  \n",
       "8  2019-05-01 10:59:17  \n",
       "9  2019-05-01 04:57:05  "
      ]
     },
     "execution_count": 17,
     "metadata": {},
     "output_type": "execute_result"
    }
   ],
   "source": [
    "data.info()\n",
    "data.head(10)"
   ]
  },
  {
   "cell_type": "markdown",
   "metadata": {},
   "source": [
    "Исходя из выводимых сообщений, можно сделать вывод о том, что в данном датасете есть 2 столбца имеют неверный тип данных, а именно столбцы `session_start` и `session_end` должны иметь тип данных *datetime*, а не *object*.\n",
    "\n",
    "Превращение в необходимый тип данных происходит при помощи метода `to_datetime()`. Для создания определённого формата строки использую целый набор специальных параметров:\n",
    "- %d - номер дня;\n",
    "- %m - номер месяца;\n",
    "- %Y - номер года;\n",
    "- ' ' - разделитель даты и времени\n",
    "- %H - часы в 24-часовом формате;\n",
    "- %M - минуты;\n",
    "- %S - секунды.\n",
    "\n",
    "В данном датасете формат даты выглядит следующим образом: `'Y-%m-%d %H:%M:%S'`.\n",
    "\n",
    "Учитывая все это, изменим тип данных по данному образцу."
   ]
  },
  {
   "cell_type": "code",
   "execution_count": 25,
   "metadata": {},
   "outputs": [],
   "source": [
    "data['session_start'] = pd.to_datetime(data['session_start'], format='%Y-%m-%d %H:%M:%S')\n",
    "data['session_end'] = pd.to_datetime(data['session_end'], format='%Y-%m-%d %H:%M:%S')"
   ]
  },
  {
   "cell_type": "markdown",
   "metadata": {},
   "source": [
    "И проверим получившийся результат воспользовавшись функцией `'.info()'`."
   ]
  },
  {
   "cell_type": "code",
   "execution_count": 26,
   "metadata": {},
   "outputs": [
    {
     "name": "stdout",
     "output_type": "stream",
     "text": [
      "<class 'pandas.core.frame.DataFrame'>\n",
      "RangeIndex: 309901 entries, 0 to 309900\n",
      "Data columns (total 6 columns):\n",
      " #   Column         Non-Null Count   Dtype         \n",
      "---  ------         --------------   -----         \n",
      " 0   user_id        309901 non-null  int64         \n",
      " 1   Region         309901 non-null  object        \n",
      " 2   Device         309901 non-null  object        \n",
      " 3   Channel        309901 non-null  object        \n",
      " 4   session_start  309901 non-null  datetime64[ns]\n",
      " 5   session_end    309901 non-null  datetime64[ns]\n",
      "dtypes: datetime64[ns](2), int64(1), object(3)\n",
      "memory usage: 14.2+ MB\n"
     ]
    }
   ],
   "source": [
    "data.info()"
   ]
  },
  {
   "cell_type": "markdown",
   "metadata": {},
   "source": [
    "Как видно из последнего ответа, теперь последние два столбца имеют формат данных `'datetime'`, который отличный от изначального `'object'`. Следовательно, конвертация типа данных прошла успешно.\n",
    "\n",
    "[Вернуться в начало](#intro)"
   ]
  },
  {
   "cell_type": "markdown",
   "metadata": {},
   "source": [
    "## Сводные таблицы <a id='9'></a>\n",
    "\n",
    "Придумать и реализовать сводные таблицы."
   ]
  },
  {
   "cell_type": "markdown",
   "metadata": {},
   "source": [
    "В данном разделе будет показан процесс создания и реализации сводной таблицы по имеющемуся датасету.\n",
    "\n",
    "Для начала необходимо придумать, для каких данных будет создана сводная таблица. \n",
    "\n",
    "Первым делом стоит сразу понять, что **значения** в сводной таблице могут быть только **числовые типы данных**. Поскольку числовым столбцом в датасете является только `'user_id'`, то в качестве функции, применяемой к значениям, логично применить `'count'`, которая считает количество значений.\n",
    "\n",
    "Далее нужно определить, какие столбцы из датафрейма будут в сводной таблице строками, а какие столбцами. И из-за того, что в датафрейме несколько столбцов строк, то отсюда следует некоторая вариабельность при создании сводных таблиц. \n",
    "\n",
    "Так, например в этой сводной таблице строками является `'Channel'`, а столбцами `'Device'`:"
   ]
  },
  {
   "cell_type": "code",
   "execution_count": 48,
   "metadata": {},
   "outputs": [
    {
     "data": {
      "text/html": [
       "<div>\n",
       "<style scoped>\n",
       "    .dataframe tbody tr th:only-of-type {\n",
       "        vertical-align: middle;\n",
       "    }\n",
       "\n",
       "    .dataframe tbody tr th {\n",
       "        vertical-align: top;\n",
       "    }\n",
       "\n",
       "    .dataframe thead th {\n",
       "        text-align: right;\n",
       "    }\n",
       "</style>\n",
       "<table border=\"1\" class=\"dataframe\">\n",
       "  <thead>\n",
       "    <tr style=\"text-align: right;\">\n",
       "      <th>Device</th>\n",
       "      <th>Android</th>\n",
       "      <th>Mac</th>\n",
       "      <th>PC</th>\n",
       "      <th>iPhone</th>\n",
       "    </tr>\n",
       "    <tr>\n",
       "      <th>Channel</th>\n",
       "      <th></th>\n",
       "      <th></th>\n",
       "      <th></th>\n",
       "      <th></th>\n",
       "    </tr>\n",
       "  </thead>\n",
       "  <tbody>\n",
       "    <tr>\n",
       "      <th>AdNonSense</th>\n",
       "      <td>1993</td>\n",
       "      <td>708</td>\n",
       "      <td>2760</td>\n",
       "      <td>1430</td>\n",
       "    </tr>\n",
       "    <tr>\n",
       "      <th>FaceBoom</th>\n",
       "      <td>9793</td>\n",
       "      <td>12262</td>\n",
       "      <td>5101</td>\n",
       "      <td>21866</td>\n",
       "    </tr>\n",
       "    <tr>\n",
       "      <th>LeapBob</th>\n",
       "      <td>5145</td>\n",
       "      <td>1787</td>\n",
       "      <td>6821</td>\n",
       "      <td>3260</td>\n",
       "    </tr>\n",
       "    <tr>\n",
       "      <th>MediaTornado</th>\n",
       "      <td>1759</td>\n",
       "      <td>2342</td>\n",
       "      <td>902</td>\n",
       "      <td>3875</td>\n",
       "    </tr>\n",
       "    <tr>\n",
       "      <th>OppleCreativeMedia</th>\n",
       "      <td>4660</td>\n",
       "      <td>1800</td>\n",
       "      <td>6849</td>\n",
       "      <td>3485</td>\n",
       "    </tr>\n",
       "    <tr>\n",
       "      <th>RocketSuperAds</th>\n",
       "      <td>2378</td>\n",
       "      <td>3380</td>\n",
       "      <td>1212</td>\n",
       "      <td>5754</td>\n",
       "    </tr>\n",
       "    <tr>\n",
       "      <th>TipTop</th>\n",
       "      <td>11424</td>\n",
       "      <td>13153</td>\n",
       "      <td>5609</td>\n",
       "      <td>24608</td>\n",
       "    </tr>\n",
       "    <tr>\n",
       "      <th>WahooNetBanner</th>\n",
       "      <td>6404</td>\n",
       "      <td>1956</td>\n",
       "      <td>8160</td>\n",
       "      <td>3945</td>\n",
       "    </tr>\n",
       "    <tr>\n",
       "      <th>YRabbit</th>\n",
       "      <td>1937</td>\n",
       "      <td>2295</td>\n",
       "      <td>1008</td>\n",
       "      <td>3813</td>\n",
       "    </tr>\n",
       "    <tr>\n",
       "      <th>lambdaMediaAds</th>\n",
       "      <td>1830</td>\n",
       "      <td>726</td>\n",
       "      <td>2551</td>\n",
       "      <td>1400</td>\n",
       "    </tr>\n",
       "    <tr>\n",
       "      <th>organic</th>\n",
       "      <td>25267</td>\n",
       "      <td>21613</td>\n",
       "      <td>21713</td>\n",
       "      <td>39167</td>\n",
       "    </tr>\n",
       "  </tbody>\n",
       "</table>\n",
       "</div>"
      ],
      "text/plain": [
       "Device              Android    Mac     PC  iPhone\n",
       "Channel                                          \n",
       "AdNonSense             1993    708   2760    1430\n",
       "FaceBoom               9793  12262   5101   21866\n",
       "LeapBob                5145   1787   6821    3260\n",
       "MediaTornado           1759   2342    902    3875\n",
       "OppleCreativeMedia     4660   1800   6849    3485\n",
       "RocketSuperAds         2378   3380   1212    5754\n",
       "TipTop                11424  13153   5609   24608\n",
       "WahooNetBanner         6404   1956   8160    3945\n",
       "YRabbit                1937   2295   1008    3813\n",
       "lambdaMediaAds         1830    726   2551    1400\n",
       "organic               25267  21613  21713   39167"
      ]
     },
     "execution_count": 48,
     "metadata": {},
     "output_type": "execute_result"
    }
   ],
   "source": [
    "table1 = data.pivot_table(index=['Channel'], columns='Device', values='user_id', aggfunc='count')\n",
    "table1"
   ]
  },
  {
   "cell_type": "markdown",
   "metadata": {},
   "source": [
    "В данной таблице приводится статистика по количеству клиентов, которые заходили на сайт от различных рекламодателей и с различных устройств. И судя по этой таблице, можно составить топ 3 рекламодателей по количеству клиентов:\n",
    "- 1 место: **organic**;\n",
    "- 2 место: **TipTop**;\n",
    "- 3 место: **FaceBoom**. "
   ]
  },
  {
   "cell_type": "markdown",
   "metadata": {},
   "source": [
    "А в этой сводной таблице столбцами является `'Region'`, а строками `'Device'`:"
   ]
  },
  {
   "cell_type": "code",
   "execution_count": 47,
   "metadata": {},
   "outputs": [
    {
     "data": {
      "text/html": [
       "<div>\n",
       "<style scoped>\n",
       "    .dataframe tbody tr th:only-of-type {\n",
       "        vertical-align: middle;\n",
       "    }\n",
       "\n",
       "    .dataframe tbody tr th {\n",
       "        vertical-align: top;\n",
       "    }\n",
       "\n",
       "    .dataframe thead th {\n",
       "        text-align: right;\n",
       "    }\n",
       "</style>\n",
       "<table border=\"1\" class=\"dataframe\">\n",
       "  <thead>\n",
       "    <tr style=\"text-align: right;\">\n",
       "      <th>Region</th>\n",
       "      <th>France</th>\n",
       "      <th>Germany</th>\n",
       "      <th>UK</th>\n",
       "      <th>United States</th>\n",
       "    </tr>\n",
       "    <tr>\n",
       "      <th>Device</th>\n",
       "      <th></th>\n",
       "      <th></th>\n",
       "      <th></th>\n",
       "      <th></th>\n",
       "    </tr>\n",
       "  </thead>\n",
       "  <tbody>\n",
       "    <tr>\n",
       "      <th>Android</th>\n",
       "      <td>10477</td>\n",
       "      <td>9148</td>\n",
       "      <td>10775</td>\n",
       "      <td>42190</td>\n",
       "    </tr>\n",
       "    <tr>\n",
       "      <th>Mac</th>\n",
       "      <td>3815</td>\n",
       "      <td>3284</td>\n",
       "      <td>3563</td>\n",
       "      <td>51360</td>\n",
       "    </tr>\n",
       "    <tr>\n",
       "      <th>PC</th>\n",
       "      <td>14145</td>\n",
       "      <td>12282</td>\n",
       "      <td>14790</td>\n",
       "      <td>21469</td>\n",
       "    </tr>\n",
       "    <tr>\n",
       "      <th>iPhone</th>\n",
       "      <td>6959</td>\n",
       "      <td>6045</td>\n",
       "      <td>7291</td>\n",
       "      <td>92308</td>\n",
       "    </tr>\n",
       "  </tbody>\n",
       "</table>\n",
       "</div>"
      ],
      "text/plain": [
       "Region   France  Germany     UK  United States\n",
       "Device                                        \n",
       "Android   10477     9148  10775          42190\n",
       "Mac        3815     3284   3563          51360\n",
       "PC        14145    12282  14790          21469\n",
       "iPhone     6959     6045   7291          92308"
      ]
     },
     "execution_count": 47,
     "metadata": {},
     "output_type": "execute_result"
    }
   ],
   "source": [
    "table2 = data.pivot_table(index=['Device'], columns='Region', values='user_id', aggfunc='count')\n",
    "table2"
   ]
  },
  {
   "cell_type": "markdown",
   "metadata": {},
   "source": [
    "Из данной таблицы видно, что чаще всего пользователи заходили из страны **United States**, что в целом и логично, ведь там население больше, чем в любой другой стране из этого списка.\n",
    "\n",
    "Также, исходя из данных в этой таблице, можно заметить, что устройством **Iphone** чаще пользовались в стране **UK**, нежели в стране **France**."
   ]
  },
  {
   "cell_type": "markdown",
   "metadata": {},
   "source": [
    "А в последней таблице столбцами являются `'Region'`, ну а строками являются `'Channel'`:"
   ]
  },
  {
   "cell_type": "code",
   "execution_count": 51,
   "metadata": {},
   "outputs": [
    {
     "data": {
      "text/html": [
       "<div>\n",
       "<style scoped>\n",
       "    .dataframe tbody tr th:only-of-type {\n",
       "        vertical-align: middle;\n",
       "    }\n",
       "\n",
       "    .dataframe tbody tr th {\n",
       "        vertical-align: top;\n",
       "    }\n",
       "\n",
       "    .dataframe thead th {\n",
       "        text-align: right;\n",
       "    }\n",
       "</style>\n",
       "<table border=\"1\" class=\"dataframe\">\n",
       "  <thead>\n",
       "    <tr style=\"text-align: right;\">\n",
       "      <th>Region</th>\n",
       "      <th>France</th>\n",
       "      <th>Germany</th>\n",
       "      <th>UK</th>\n",
       "      <th>United States</th>\n",
       "    </tr>\n",
       "    <tr>\n",
       "      <th>Channel</th>\n",
       "      <th></th>\n",
       "      <th></th>\n",
       "      <th></th>\n",
       "      <th></th>\n",
       "    </tr>\n",
       "  </thead>\n",
       "  <tbody>\n",
       "    <tr>\n",
       "      <th>AdNonSense</th>\n",
       "      <td>2381</td>\n",
       "      <td>2183</td>\n",
       "      <td>2327</td>\n",
       "      <td>0</td>\n",
       "    </tr>\n",
       "    <tr>\n",
       "      <th>FaceBoom</th>\n",
       "      <td>0</td>\n",
       "      <td>0</td>\n",
       "      <td>0</td>\n",
       "      <td>49022</td>\n",
       "    </tr>\n",
       "    <tr>\n",
       "      <th>LeapBob</th>\n",
       "      <td>5869</td>\n",
       "      <td>4892</td>\n",
       "      <td>6252</td>\n",
       "      <td>0</td>\n",
       "    </tr>\n",
       "    <tr>\n",
       "      <th>MediaTornado</th>\n",
       "      <td>0</td>\n",
       "      <td>0</td>\n",
       "      <td>0</td>\n",
       "      <td>8878</td>\n",
       "    </tr>\n",
       "    <tr>\n",
       "      <th>OppleCreativeMedia</th>\n",
       "      <td>5808</td>\n",
       "      <td>4865</td>\n",
       "      <td>6121</td>\n",
       "      <td>0</td>\n",
       "    </tr>\n",
       "    <tr>\n",
       "      <th>RocketSuperAds</th>\n",
       "      <td>0</td>\n",
       "      <td>0</td>\n",
       "      <td>0</td>\n",
       "      <td>12724</td>\n",
       "    </tr>\n",
       "    <tr>\n",
       "      <th>TipTop</th>\n",
       "      <td>0</td>\n",
       "      <td>0</td>\n",
       "      <td>0</td>\n",
       "      <td>54794</td>\n",
       "    </tr>\n",
       "    <tr>\n",
       "      <th>WahooNetBanner</th>\n",
       "      <td>7033</td>\n",
       "      <td>6324</td>\n",
       "      <td>7108</td>\n",
       "      <td>0</td>\n",
       "    </tr>\n",
       "    <tr>\n",
       "      <th>YRabbit</th>\n",
       "      <td>0</td>\n",
       "      <td>0</td>\n",
       "      <td>0</td>\n",
       "      <td>9053</td>\n",
       "    </tr>\n",
       "    <tr>\n",
       "      <th>lambdaMediaAds</th>\n",
       "      <td>2241</td>\n",
       "      <td>1976</td>\n",
       "      <td>2290</td>\n",
       "      <td>0</td>\n",
       "    </tr>\n",
       "    <tr>\n",
       "      <th>organic</th>\n",
       "      <td>12064</td>\n",
       "      <td>10519</td>\n",
       "      <td>12321</td>\n",
       "      <td>72856</td>\n",
       "    </tr>\n",
       "  </tbody>\n",
       "</table>\n",
       "</div>"
      ],
      "text/plain": [
       "Region              France  Germany     UK  United States\n",
       "Channel                                                  \n",
       "AdNonSense            2381     2183   2327              0\n",
       "FaceBoom                 0        0      0          49022\n",
       "LeapBob               5869     4892   6252              0\n",
       "MediaTornado             0        0      0           8878\n",
       "OppleCreativeMedia    5808     4865   6121              0\n",
       "RocketSuperAds           0        0      0          12724\n",
       "TipTop                   0        0      0          54794\n",
       "WahooNetBanner        7033     6324   7108              0\n",
       "YRabbit                  0        0      0           9053\n",
       "lambdaMediaAds        2241     1976   2290              0\n",
       "organic              12064    10519  12321          72856"
      ]
     },
     "execution_count": 51,
     "metadata": {},
     "output_type": "execute_result"
    }
   ],
   "source": [
    "table3 = data.pivot_table(index=['Channel'], columns='Region', values='user_id', aggfunc='count', fill_value=0)\n",
    "table3"
   ]
  },
  {
   "cell_type": "markdown",
   "metadata": {},
   "source": [
    "Исходя из данных, приведенных в этой таблице, можно сделать заключение о том, что не все рекламодатели работают во всех странах. Допустим, компания *FaceBoom* работает исключительно с пользователями из **United States**, а *lambdaMediaAds* - со всеми, кроме **United States**."
   ]
  },
  {
   "cell_type": "markdown",
   "metadata": {},
   "source": [
    "Таким образом, создав эти 3 сводные таблицы, можно сделать вывод о том, что *на основе этого датасета можно создать 3 сводные таблицы*.\n",
    "\n",
    "Теперь докажем, что больше не получится. \n",
    "\n",
    "Поскольку для 1 сводной таблицы требуется 2 текстовых столбца и 1 со значениями, а всего в датасете получается 3 текстовых и 1 со значениями, то получается всего таблиц можно создать число сочетаний из 3 по 2 (С из 3 по 2). А это в свою очередь равняется 3!/(2! * (3-2)!), что равно значению 3.\n",
    "\n",
    "Таким образом, было доказано, что всего сводных таблиц можно было создать 3, все из которых были расписаны выше.\n",
    "\n",
    "**Ч.Т.Д.**\n",
    "\n",
    "[Вернуться в начало](#intro)"
   ]
  },
  {
   "cell_type": "markdown",
   "metadata": {},
   "source": [
    "## Группировка данных <a id='10'></a>\n",
    "\n",
    "Разделить данные по какому-либо признаку."
   ]
  },
  {
   "cell_type": "markdown",
   "metadata": {},
   "source": [
    "В библиотеке pandas данные группируются при помощи метода `'groupby()'`, который:\n",
    "- принимает в качестве аргумента название столбца, по которому нужно сгруппировать;\n",
    "- возвращает объект типа - DataFrameGroupBy. Это сгруппированные данные.\n",
    "Также к этому методу можно применять дополнительно методы `'count()'` или `'sum()'`.\n",
    "\n",
    "Попробуем создать 2 группировки при помощи данного метода."
   ]
  },
  {
   "cell_type": "markdown",
   "metadata": {},
   "source": [
    "Первая группировка будет основана на столбце `'Region'` и будет выглядеть следующим образом:"
   ]
  },
  {
   "cell_type": "code",
   "execution_count": 25,
   "metadata": {},
   "outputs": [
    {
     "data": {
      "text/plain": [
       "Region\n",
       "France            35396\n",
       "Germany           30759\n",
       "UK                36419\n",
       "United States    207327\n",
       "Name: user_id, dtype: int64"
      ]
     },
     "execution_count": 25,
     "metadata": {},
     "output_type": "execute_result"
    }
   ],
   "source": [
    "group1 = data.groupby(['Region']).count()['user_id']\n",
    "group1\n"
   ]
  },
  {
   "cell_type": "markdown",
   "metadata": {},
   "source": [
    "Данная группировка показывает количество записей в датасете по странам.\n",
    "\n",
    "Вторая группировка будет создана на столбце `'Device'` и выглядит следующим образом:"
   ]
  },
  {
   "cell_type": "code",
   "execution_count": 26,
   "metadata": {},
   "outputs": [
    {
     "data": {
      "text/plain": [
       "Device\n",
       "Android     72590\n",
       "Mac         62022\n",
       "PC          62686\n",
       "iPhone     112603\n",
       "Name: user_id, dtype: int64"
      ]
     },
     "execution_count": 26,
     "metadata": {},
     "output_type": "execute_result"
    }
   ],
   "source": [
    "group2 = data.groupby('Device').count()['user_id']\n",
    "group2"
   ]
  },
  {
   "cell_type": "markdown",
   "metadata": {},
   "source": [
    "Эта группировка показывает количество пользователей, использующих определённый тип устройства.\n",
    "\n",
    "[Вернуться в начало](#intro)"
   ]
  },
  {
   "cell_type": "markdown",
   "metadata": {},
   "source": [
    "## Выводы <a id='11'></a>"
   ]
  },
  {
   "cell_type": "markdown",
   "metadata": {},
   "source": [
    "В ходе выполнения данной лабораторной работы я впервые познакомился с принципом создания страниц в Jupiter-блокноте. Также, осуществил обработку данных csv-файла, выявил и устранил проблемы в этом файле. Работу эту я проводил при помощи языка **Python** и библиотеки **Pandas**, принцип работы с которой я вспомнил в ходе выполнения лабораторной работы.\n",
    "\n",
    "В данной лабораторной работе мне пришлось столкнуться с набором данных, основанным на количестве посещений какого-то сайта пользователями. В этом датасете приводится информация о посетителях: устройство, с которого они заходили; страна проживания; рекламный ресурс, благодаря которому они попали на сайт; время начала и время окончания сессии пребывания на сайте.\n",
    "\n",
    "Далее, была проведена предварительная обработка данных, т.е. проверка правильности написания названий столбцов (в названии присутствовали недочеты), поиск пропусков (т.е. пустых ячеек, коих , к счастью, не оказалось), поиск явных и неявных дубликатов (т.е. повторяющихся строк либо опечаток при написании данных) и приведение типов данных (некоторые столбцы имели неверный тип данных).\n",
    "\n",
    "Затем, были созданы 3 сводные таблицы, которые отражали следующую информацию:\n",
    "- Количество пользователей, пришедших на сайт от различных рекламных ресуров;\n",
    "- Количество пользователей, заходивших на ресурс из различных стран с различных устройств;\n",
    "- Количество пользователей, посетивших сайт по странам от различных рекламодателей.\n",
    "\n",
    "И в конце выполнения работы были созданы 2 группировки данных, показывающие:\n",
    "- Количество записей в датасете по странам;\n",
    "- Количество пользователей, использующих определённый тип устройства.\n",
    "\n",
    "И подводя итог ко всей лабораторной работе, можно сделать вывод о том, что в ходе выполнения работы я занялся предварительной обработкой и последующим анализом данных.\n",
    "\n",
    "[Вернуться в начало](#intro)"
   ]
  }
 ],
 "metadata": {
  "kernelspec": {
   "display_name": "Python 3.8.10 64-bit (microsoft store)",
   "language": "python",
   "name": "python3"
  },
  "language_info": {
   "codemirror_mode": {
    "name": "ipython",
    "version": 3
   },
   "file_extension": ".py",
   "mimetype": "text/x-python",
   "name": "python",
   "nbconvert_exporter": "python",
   "pygments_lexer": "ipython3",
   "version": "3.8.10"
  },
  "orig_nbformat": 4,
  "vscode": {
   "interpreter": {
    "hash": "7d6d1b2f6c918b5d571afef6f73311e842720a1e27007b3d4a80ce6a976b23bd"
   }
  }
 },
 "nbformat": 4,
 "nbformat_minor": 2
}
