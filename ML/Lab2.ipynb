{
 "cells": [
  {
   "attachments": {},
   "cell_type": "markdown",
   "metadata": {},
   "source": [
    "# Лабораторная работа №2\n",
    "\n",
    "- [Создание базовых образов](#1)\n",
    "- [Создание \"зашумленных\" образов](#2)\n",
    "- [Построение и обучение нейронной сети](#3)\n",
    "- [Проверка обучения](#4)\n",
    "- [Выводы](#5)"
   ]
  },
  {
   "attachments": {},
   "cell_type": "markdown",
   "metadata": {},
   "source": [
    "## Создание базовых образов <a id='1'></a>"
   ]
  },
  {
   "attachments": {},
   "cell_type": "markdown",
   "metadata": {},
   "source": [
    "В начале выполнения данной лабораторной работы необходимо, согласно номеру варианта, взять 3 любых дорожных знака в качестве эталонов. В качестве эталонных были выбраны знаки: **Въезд запрещён** (или же просто *кирпич*), **Уступи дорогу** (или же *морковка*) и **Парковка**. Каждый из данных знаков необходимо представить в виде матрицы размером 13х13, заполненной либо *1*, либо *-1*. \n",
    "\n",
    "После создания эталонной матрицы, необходимо визуально оценить что получилось в итоге. И для визуализации подобного двумерного массива чисел будет использована следующая функция:"
   ]
  },
  {
   "cell_type": "code",
   "execution_count": 18,
   "metadata": {},
   "outputs": [],
   "source": [
    "import matplotlib.pyplot as plt\n",
    "import numpy as np\n",
    "def visual(matrix, nb_pict, height, width):\n",
    "    fig, ax = plt.subplots(1, nb_pict, figsize=(10, 5))\n",
    "    for i in range(nb_pict):\n",
    "        ax[i].matshow(matrix[i].reshape(height, width), cmap='gray_r' )\n",
    "        ax[i].set_xticks([])\n",
    "        ax[i].set_yticks([])\n",
    "    plt.show()"
   ]
  },
  {
   "attachments": {},
   "cell_type": "markdown",
   "metadata": {},
   "source": [
    "Далее необходимо создать массив, содержащий все 3 выбранных дорожных знака. Помимо этого, необходимо задать некоторые базовые параметры, например размеры дорожных знаков. Также, ниже представлена визуализация созданных знаков:"
   ]
  },
  {
   "cell_type": "code",
   "execution_count": 133,
   "metadata": {},
   "outputs": [
    {
     "data": {
      "image/png": "[encoded data removed]",
      "text/plain": [
       "<Figure size 1000x500 with 3 Axes>"
      ]
     },
     "metadata": {},
     "output_type": "display_data"
    }
   ],
   "source": [
    "number_patterns = 3     #Количество распознаваемых образов\n",
    "pattern_height = 13     #Высота одного образа\n",
    "pattern_width = 13      #Ширина одного образа\n",
    "\n",
    "patterns = np.array([\n",
    "        [-1,-1,-1,-1,-1,-1,-1,-1,-1,-1,-1,-1,-1,          #Знак кирпич\n",
    "         -1,-1,-1,-1, 1, 1, 1, 1, 1,-1,-1,-1,-1,\n",
    "         -1,-1,-1, 1, 1, 1, 1, 1, 1, 1,-1,-1,-1,\n",
    "         -1,-1, 1, 1, 1, 1, 1, 1, 1, 1, 1,-1,-1,\n",
    "         -1, 1, 1, 1, 1, 1, 1, 1, 1, 1, 1, 1,-1,\n",
    "         -1, 1, 1, 1, 1, 1, 1, 1, 1, 1, 1, 1,-1,\n",
    "         -1, 1,-1,-1,-1,-1,-1,-1,-1,-1,-1, 1,-1,\n",
    "         -1, 1, 1, 1, 1, 1, 1, 1, 1, 1, 1, 1,-1,\n",
    "         -1, 1, 1, 1, 1, 1, 1, 1, 1, 1, 1, 1,-1,\n",
    "         -1,-1, 1, 1, 1, 1, 1, 1, 1, 1, 1,-1,-1,\n",
    "         -1,-1,-1, 1, 1, 1, 1, 1, 1, 1,-1,-1,-1,\n",
    "         -1,-1,-1,-1, 1, 1, 1, 1, 1,-1,-1,-1,-1,\n",
    "         -1,-1,-1,-1,-1,-1,-1,-1,-1,-1,-1,-1,-1],\n",
    "\n",
    "        [-1,-1,-1,-1,-1,-1,-1,-1,-1,-1,-1,-1,-1,           #Знак морковка\n",
    "         -1, 1, 1, 1, 1, 1, 1, 1, 1, 1, 1, 1,-1,\n",
    "         -1, 1,-1,-1,-1,-1,-1,-1,-1,-1,-1, 1,-1,\n",
    "         -1, 1, 1,-1,-1,-1,-1,-1,-1,-1, 1, 1,-1,\n",
    "         -1,-1, 1,-1,-1,-1,-1,-1,-1,-1, 1,-1,-1,\n",
    "         -1,-1, 1, 1,-1,-1,-1,-1,-1, 1, 1,-1,-1,\n",
    "         -1,-1,-1, 1,-1,-1,-1,-1,-1, 1,-1,-1,-1,\n",
    "         -1,-1,-1, 1, 1,-1,-1,-1, 1, 1,-1,-1,-1,\n",
    "         -1,-1,-1,-1, 1,-1,-1,-1, 1,-1,-1,-1,-1,\n",
    "         -1,-1,-1,-1, 1, 1,-1, 1, 1,-1,-1,-1,-1,\n",
    "         -1,-1,-1,-1,-1, 1,-1, 1,-1,-1,-1,-1,-1,\n",
    "         -1,-1,-1,-1,-1, 1, 1, 1,-1,-1,-1,-1,-1,\n",
    "         -1,-1,-1,-1,-1,-1,-1,-1,-1,-1,-1,-1,-1],\n",
    "\n",
    "        [-1, 1, 1, 1, 1, 1, 1, 1, 1, 1, 1, 1,-1,            #Знак парковка\n",
    "          1, 1, 1, 1, 1, 1, 1, 1, 1, 1, 1, 1, 1,\n",
    "          1, 1, 1, 1,-1,-1,-1,-1,-1, 1, 1, 1, 1,\n",
    "          1, 1, 1, 1,-1,-1, 1, 1,-1,-1, 1, 1, 1,\n",
    "          1, 1, 1, 1,-1,-1, 1, 1,-1,-1, 1, 1, 1,\n",
    "          1, 1, 1, 1,-1,-1, 1, 1,-1,-1, 1, 1, 1,\n",
    "          1, 1, 1, 1,-1,-1,-1,-1,-1, 1, 1, 1, 1,\n",
    "          1, 1, 1, 1,-1,-1, 1, 1, 1, 1, 1, 1, 1,\n",
    "          1, 1, 1, 1,-1,-1, 1, 1, 1, 1, 1, 1, 1,\n",
    "          1, 1, 1, 1,-1,-1, 1, 1, 1, 1, 1, 1, 1,\n",
    "          1, 1, 1, 1,-1,-1, 1, 1, 1, 1, 1, 1, 1,\n",
    "          1, 1, 1, 1, 1, 1, 1, 1, 1, 1, 1, 1, 1,\n",
    "         -1, 1, 1, 1, 1, 1, 1, 1, 1, 1, 1, 1,-1]], \n",
    "        dtype=np.float64\n",
    ")\n",
    "visual(patterns, number_patterns, pattern_height, pattern_width)\n"
   ]
  },
  {
   "attachments": {},
   "cell_type": "markdown",
   "metadata": {},
   "source": [
    "# Создание \"зашумленных\" образов <a id='2'></a>"
   ]
  },
  {
   "attachments": {},
   "cell_type": "markdown",
   "metadata": {},
   "source": [
    "После создания эталонных образов, необходимо создать их копии, но при этом внести немного изменений в них. Таким образом, получатся образы неправильных дорожных знаков (или же дорожных знаков, имеющих дефект в изображении). Для этого к каждому пикселю в изображении добавим случайное значение. В результате получится то, что показано ниже:"
   ]
  },
  {
   "cell_type": "code",
   "execution_count": 4,
   "metadata": {},
   "outputs": [],
   "source": [
    "def create_noise(matrix, power):\n",
    "    test = []\n",
    "    for pict in matrix:\n",
    "        noise = np.random.sample(len(pict)) * power\n",
    "        temp = np.around(np.multiply(pict, noise))\n",
    "        np.place(temp, temp == 0, -1)\n",
    "        np.place(temp, temp < -1, -1)\n",
    "        np.place(temp, temp > 1, 1)\n",
    "        test.append(temp)\n",
    "    return test"
   ]
  },
  {
   "attachments": {},
   "cell_type": "markdown",
   "metadata": {},
   "source": [
    "# Посторение и обучение нейронной сети <a id='3'></a>"
   ]
  },
  {
   "attachments": {},
   "cell_type": "markdown",
   "metadata": {},
   "source": [
    "После создания данных для обучения и для проверки работоспособности, необходимо создать нейронную сеть Хопфилда. Матрица весов представляет из себя квадратную матрицу, элементами которой являются весами одного нейрона. Ниже представлен программный код по созданию матрицы весовых коэффициентов (иначе говоря происходит процесс обучения сети)."
   ]
  },
  {
   "cell_type": "code",
   "execution_count": 5,
   "metadata": {},
   "outputs": [],
   "source": [
    "def train(matrix, number, height, width):\n",
    "    area = height * width\n",
    "    weights = np.zeros((area, area))\n",
    "    for i in range(len(weights)):\n",
    "        for j in range(len(weights)):\n",
    "            if i == j or weights[i][j] != 0.0:\n",
    "                continue\n",
    "            w = 0.0\n",
    "            for n in range(number):\n",
    "                w += matrix[n, i] * matrix[n, j]\n",
    "            weights[i, j] = w/patterns.shape[0]\n",
    "            weights[j, i] = weights[i, j]\n",
    "    return weights\n",
    "\n",
    "weights = train(patterns, number_patterns, pattern_height, pattern_width)"
   ]
  },
  {
   "attachments": {},
   "cell_type": "markdown",
   "metadata": {},
   "source": [
    "После создания функции по созданию матрицы весовых коэффициентов, потребуется создать ещё 2 дополнительные функции. **Первая** функция предназначена для подсчёта величины ошибки между двумя массивами, а благодаря **второй** функции будет производится тестирования точности восстановления образа."
   ]
  },
  {
   "cell_type": "code",
   "execution_count": 6,
   "metadata": {},
   "outputs": [],
   "source": [
    "def error_counter(arr1, arr2):\n",
    "    error = 0\n",
    "    for i in range(len(arr1)):\n",
    "        if arr1[i] != arr2[i]:\n",
    "            error += 1\n",
    "    return error/len(arr1)\n",
    "\n",
    "def testing(weight, test_patterns, nb_patterns, real_patterns):\n",
    "    arr_error = []\n",
    "    result = []\n",
    "    for i in range(nb_patterns):\n",
    "        temp = np.dot(weight, test_patterns[i])\n",
    "        np.place(temp, temp < 0,-1)\n",
    "        np.place(temp, temp > 0, 1)\n",
    "        np.place(temp, temp == 0, 1)\n",
    "        arr_error.append(error_counter(real_patterns[i], temp))\n",
    "        result.append(temp)\n",
    "    return arr_error, result"
   ]
  },
  {
   "attachments": {},
   "cell_type": "markdown",
   "metadata": {},
   "source": [
    "# Проверка обучения <a id='4'></a>"
   ]
  },
  {
   "attachments": {},
   "cell_type": "markdown",
   "metadata": {},
   "source": [
    "После создания и обучения нейронной сети можно приступить к тестированию результатов, получаемых при попытке ввести искаженные данные. Для этого при помощи функции `create_noise()` создадим массив тестовых и выведем их величины ошибок. Затем при помощи функции `testing()` запустим искажённые данные в нейронную сеть и при помощи `visual()` визуально посмотрим результаты работы алгоритма. При этом, в качестве параметра в функции `create_noise()` задаётся число, которое определять степень изменения рисунка относительно изначального. В качестве первого раза пусть это число будет **1,5**"
   ]
  },
  {
   "cell_type": "code",
   "execution_count": 7,
   "metadata": {},
   "outputs": [
    {
     "name": "stdout",
     "output_type": "stream",
     "text": [
      "Величина ошибки 1-го рисунка: 0.14792899408284024\n",
      "Величина ошибки 2-го рисунка: 0.047337278106508875\n",
      "Величина ошибки 3-го рисунка: 0.3076923076923077\n"
     ]
    },
    {
     "data": {
      "image/png": "[encoded data removed]",
      "text/plain": [
       "<Figure size 1000x500 with 3 Axes>"
      ]
     },
     "metadata": {},
     "output_type": "display_data"
    }
   ],
   "source": [
    "test = create_noise(patterns, 1.5)      #тестовый набор данных\n",
    "for i in range(len(test)):\n",
    "    print(f'Величина ошибки {i+1}-го рисунка: {error_counter(test[i], patterns[i])}')\n",
    "visual(test, number_patterns, pattern_height, pattern_width)"
   ]
  },
  {
   "attachments": {},
   "cell_type": "markdown",
   "metadata": {},
   "source": [
    "Как видно из вышеприведённых рисунков, картинки приобрели искажения, но не очень сильные. Теперь, запустим функцию тестирования нейронной сети и посмотрим, что получится в итоге:"
   ]
  },
  {
   "cell_type": "code",
   "execution_count": 8,
   "metadata": {},
   "outputs": [
    {
     "name": "stdout",
     "output_type": "stream",
     "text": [
      "Итоговая величина ошибки 1-го рисунка: 0.0\n",
      "Итоговая величина ошибки 2-го рисунка: 0.0\n",
      "Итоговая величина ошибки 3-го рисунка: 0.0\n"
     ]
    },
    {
     "data": {
      "image/png": "[encoded data removed]",
      "text/plain": [
       "<Figure size 1000x500 with 3 Axes>"
      ]
     },
     "metadata": {},
     "output_type": "display_data"
    }
   ],
   "source": [
    "errors, results = testing(weights, test, number_patterns, patterns)\n",
    "for i in range(len(errors)):\n",
    "    print(f'Итоговая величина ошибки {i+1}-го рисунка: {errors[i]}')\n",
    "\n",
    "visual(results, number_patterns, pattern_height, pattern_width)"
   ]
  },
  {
   "attachments": {},
   "cell_type": "markdown",
   "metadata": {},
   "source": [
    "Видно, что восстановленные дорожные знаки ничем не отличаются от изначальных. Отсюда можно сделать вывод о том, что при величине изменений в **1,5** единицы нейронная сеть отлично восстанавливает образы. Далее, уменьшим значение данного параметра до **0,9** и оценим результаты:"
   ]
  },
  {
   "cell_type": "code",
   "execution_count": 12,
   "metadata": {},
   "outputs": [
    {
     "name": "stdout",
     "output_type": "stream",
     "text": [
      "Величина ошибки 1-го рисунка: 0.3136094674556213\n",
      "Величина ошибки 2-го рисунка: 0.1242603550295858\n",
      "Величина ошибки 3-го рисунка: 0.46153846153846156\n"
     ]
    },
    {
     "data": {
      "image/png": "[encoded data removed]",
      "text/plain": [
       "<Figure size 1000x500 with 3 Axes>"
      ]
     },
     "metadata": {},
     "output_type": "display_data"
    },
    {
     "name": "stdout",
     "output_type": "stream",
     "text": [
      "Итоговая величина ошибки 1-го рисунка: 0.24260355029585798\n",
      "Итоговая величина ошибки 2-го рисунка: 0.0\n",
      "Итоговая величина ошибки 3-го рисунка: 0.6331360946745562\n"
     ]
    },
    {
     "data": {
      "image/png": "[encoded data removed]",
      "text/plain": [
       "<Figure size 1000x500 with 3 Axes>"
      ]
     },
     "metadata": {},
     "output_type": "display_data"
    }
   ],
   "source": [
    "test = create_noise(patterns, 0.9)      #тестовый набор данных\n",
    "for i in range(len(test)):\n",
    "    print(f'Величина ошибки {i+1}-го рисунка: {error_counter(test[i], patterns[i])}')\n",
    "visual(test, number_patterns, pattern_height, pattern_width)\n",
    "\n",
    "errors, results = testing(weights, test, number_patterns, patterns)\n",
    "for i in range(len(errors)):\n",
    "    print(f'Итоговая величина ошибки {i+1}-го рисунка: {errors[i]}')\n",
    "\n",
    "visual(results, number_patterns, pattern_height, pattern_width)"
   ]
  },
  {
   "attachments": {},
   "cell_type": "markdown",
   "metadata": {},
   "source": [
    "Как видно теперь, сеть Хопфилда справилась с распознанием и восстановлением лишь одной из трёх картинок. Также, можно заметить, что третья восстановленная картинка является инвертированным первым дорожным знаком, а первая картинка представляет из себя смесь двух дорожных знаков: **Въезд запрещен** и **Уступи дорогу**."
   ]
  },
  {
   "attachments": {},
   "cell_type": "markdown",
   "metadata": {},
   "source": [
    "# Дополнительное задание <a id='6'></a>"
   ]
  },
  {
   "attachments": {},
   "cell_type": "markdown",
   "metadata": {},
   "source": [
    "В качестве дополнительного задания было предложено добавить в массив рисунков еще один дорожный знак. В качестве нового дорожного знака был выбран знак **Главная дорога**. На рисунке ниже представлены все используемые дорожные знаки:"
   ]
  },
  {
   "cell_type": "code",
   "execution_count": 134,
   "metadata": {},
   "outputs": [
    {
     "data": {
      "image/png": "[encoded data removed]",
      "text/plain": [
       "<Figure size 1000x500 with 4 Axes>"
      ]
     },
     "metadata": {},
     "output_type": "display_data"
    }
   ],
   "source": [
    "new = [-1,-1,-1,-1,-1,-1, 1,-1,-1,-1,-1,-1,-1,          #Знак главная дорога\n",
    "       -1,-1,-1,-1,-1, 1,-1, 1,-1,-1,-1,-1,-1,\n",
    "       -1,-1,-1,-1, 1,-1, 1,-1, 1,-1,-1,-1,-1,\n",
    "       -1,-1,-1, 1,-1, 1, 1, 1,-1, 1,-1,-1,-1,\n",
    "       -1,-1, 1,-1, 1, 1, 1, 1, 1,-1, 1,-1,-1,\n",
    "       -1, 1,-1, 1, 1, 1, 1, 1, 1, 1,-1, 1,-1,\n",
    "        1,-1, 1, 1, 1, 1, 1, 1, 1, 1, 1,-1, 1,\n",
    "       -1, 1,-1, 1, 1, 1, 1, 1, 1, 1,-1, 1,-1,\n",
    "       -1,-1, 1,-1, 1, 1, 1, 1, 1,-1, 1,-1,-1,\n",
    "       -1,-1,-1, 1,-1, 1, 1, 1,-1, 1,-1,-1,-1,\n",
    "       -1,-1,-1,-1, 1,-1, 1,-1, 1,-1,-1,-1,-1,\n",
    "       -1,-1,-1,-1,-1, 1,-1, 1,-1,-1,-1,-1,-1,\n",
    "       -1,-1,-1,-1,-1,-1, 1,-1,-1,-1,-1,-1,-1]\n",
    "\n",
    "patterns = np.append(patterns, [new], axis=0)\n",
    "number_patterns = 4\n",
    "visual(patterns, number_patterns, pattern_height, pattern_width)"
   ]
  },
  {
   "attachments": {},
   "cell_type": "markdown",
   "metadata": {},
   "source": [
    "Далее, необходимо обучить сеть Хопфилда на новом наборе исходных патернов."
   ]
  },
  {
   "cell_type": "code",
   "execution_count": 135,
   "metadata": {},
   "outputs": [],
   "source": [
    "weights = train(patterns, number_patterns, pattern_height, pattern_width)"
   ]
  },
  {
   "attachments": {},
   "cell_type": "markdown",
   "metadata": {},
   "source": [
    "После обучения, нужно создать \"испорченные\" версии дорожных знаков, путем накладывания шумов на исходные изображения. Ниже на рисунке представлены искаженные варианты изображений:"
   ]
  },
  {
   "cell_type": "code",
   "execution_count": 147,
   "metadata": {},
   "outputs": [
    {
     "name": "stdout",
     "output_type": "stream",
     "text": [
      "Величина ошибки 1-го рисунка: 0.11834319526627218\n",
      "Величина ошибки 2-го рисунка: 0.011834319526627219\n",
      "Величина ошибки 3-го рисунка: 0.20118343195266272\n",
      "Величина ошибки 4-го рисунка: 0.15976331360946747\n"
     ]
    },
    {
     "data": {
      "image/png": "[encoded data removed]",
      "text/plain": [
       "<Figure size 1000x500 with 4 Axes>"
      ]
     },
     "metadata": {},
     "output_type": "display_data"
    }
   ],
   "source": [
    "test = create_noise(patterns, 2)      #тестовый набор данных\n",
    "for i in range(len(test)):\n",
    "    print(f'Величина ошибки {i+1}-го рисунка: {error_counter(test[i], patterns[i])}')\n",
    "visual(test, number_patterns, pattern_height, pattern_width)"
   ]
  },
  {
   "attachments": {},
   "cell_type": "markdown",
   "metadata": {},
   "source": [
    "После завершения всех приготовительных работ, можно приступать к получению результатов восстановления изображений. Ниже на рисунке представлены результаты восстановления:"
   ]
  },
  {
   "cell_type": "code",
   "execution_count": 152,
   "metadata": {},
   "outputs": [
    {
     "name": "stdout",
     "output_type": "stream",
     "text": [
      "Итоговая величина ошибки 1-го рисунка: 0.11242603550295859\n",
      "Итоговая величина ошибки 2-го рисунка: 0.0\n",
      "Итоговая величина ошибки 3-го рисунка: 0.0\n",
      "Итоговая величина ошибки 4-го рисунка: 0.047337278106508875\n"
     ]
    },
    {
     "data": {
      "image/png": "[encoded data removed]",
      "text/plain": [
       "<Figure size 1000x500 with 4 Axes>"
      ]
     },
     "metadata": {},
     "output_type": "display_data"
    }
   ],
   "source": [
    "errors, results = testing(weights, test, number_patterns, patterns)\n",
    "for i in range(len(errors)):\n",
    "    print(f'Итоговая величина ошибки {i+1}-го рисунка: {errors[i]}')\n",
    "\n",
    "visual(results, number_patterns, pattern_height, pattern_width)"
   ]
  },
  {
   "attachments": {},
   "cell_type": "markdown",
   "metadata": {},
   "source": [
    "Как видно из показанных выше рисунков, второе и третье изображения восстановились отлично. Однако, первое и четвертое изображения не были восстановлены. Если делать предположение, почему это произошло, то можно сказать - это связано с тем, что разница между двумя этими картинками небольшая. И если запустить функцию `error_counter` между изображениями, то можно подтвердить (или опровергнуть) данное предположение."
   ]
  },
  {
   "cell_type": "code",
   "execution_count": 162,
   "metadata": {},
   "outputs": [
    {
     "name": "stdout",
     "output_type": "stream",
     "text": [
      "Величина ошибки между 1 и 2 картинками: 0.426\n",
      "Величина ошибки между 1 и 3 картинками: 0.574\n",
      "Величина ошибки между 1 и 4 картинками: 0.29\n",
      "Величина ошибки между 2 и 3 картинками: 0.633\n",
      "Величина ошибки между 2 и 4 картинками: 0.408\n",
      "Величина ошибки между 3 и 4 картинками: 0.686\n"
     ]
    }
   ],
   "source": [
    "for i in range(len(patterns)):\n",
    "    for j in range(i+1, len(patterns)):\n",
    "        print(f'Величина ошибки между {i+1} и {j+1} картинками: {round(error_counter(patterns[i], patterns[j]), 3)}')"
   ]
  },
  {
   "attachments": {},
   "cell_type": "markdown",
   "metadata": {},
   "source": [
    "Как видно из полученного ответа, наименьшее значение величины различий между двумя дорожными знаками является как раз между знаком **Кирпич** и **Главная дорога**, что подтверждает предположение, написанное выше."
   ]
  },
  {
   "attachments": {},
   "cell_type": "markdown",
   "metadata": {},
   "source": [
    "# Выводы <a id='5'></a>"
   ]
  },
  {
   "attachments": {},
   "cell_type": "markdown",
   "metadata": {},
   "source": [
    "Таким образом, в ходе выполнения данной лабораторной работы я познакомился с таким алгоритмом искусственного интеллекта, как нейронная сеть Хопфилда. Я узнал о том: какой алгоритм лежит в основе данной сети, как происходит процесс обучения сети, как она распознает и восстанавливает образы. Помимо этого, в результате выполнения работы я: реализовал данную нейронную сеть при помощи Python; создал для работы данной сети массив исходных изображений, массив искажённых изображений и массив предсказанных изображений; создал функцию искажения данных при помощи добавления шумов к значению элемента. Кроме того, в результате тестирования работоспособности данной сети было выяснено то, что данная сеть неплохо справляется с восстановлением образов при не очень сильных искажениях. Если же данные подверглись большому искажению, то могу возникнуть ошибки в определении изначального изображения."
   ]
  }
 ],
 "metadata": {
  "kernelspec": {
   "display_name": "Python 3",
   "language": "python",
   "name": "python3"
  },
  "language_info": {
   "codemirror_mode": {
    "name": "ipython",
    "version": 3
   },
   "file_extension": ".py",
   "mimetype": "text/x-python",
   "name": "python",
   "nbconvert_exporter": "python",
   "pygments_lexer": "ipython3",
   "version": "3.9.13"
  },
  "orig_nbformat": 4,
  "vscode": {
   "interpreter": {
    "hash": "ea42048d8be42ae0b8427cc8035962c46fea258d2fe89f9e79f3ba6189844e87"
   }
  }
 },
 "nbformat": 4,
 "nbformat_minor": 2
}
